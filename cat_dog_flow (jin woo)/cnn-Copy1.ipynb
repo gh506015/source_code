{
 "cells": [
  {
   "cell_type": "code",
   "execution_count": 1,
   "metadata": {
    "collapsed": true
   },
   "outputs": [],
   "source": [
    "import tensorflow as tf\n",
    "import numpy as np\n",
    "import os"
   ]
  },
  {
   "cell_type": "code",
   "execution_count": 2,
   "metadata": {},
   "outputs": [
    {
     "name": "stdout",
     "output_type": "stream",
     "text": [
      "{0: ['train_data_1_0.csv', 'train_data_2_0.csv', 'train_data_3_0.csv', 'train_data_4_0.csv', 'train_data_5_0.csv'], 1: ['train_data_11_1.csv', 'train_data_12_1.csv', 'train_data_13_1.csv', 'train_data_14_1.csv', 'train_data_15_1.csv']} {0: ['test_data_1_0.csv', 'test_data_2_0.csv', 'test_data_3_0.csv'], 1: ['test_data_7_1.csv', 'test_data_8_1.csv', 'test_data_9_1.csv']}\n",
      "train 0 train_data_1_0.csv\n",
      "(1000, 16385)\n",
      "train 0 train_data_2_0.csv\n",
      "(2000, 16385)\n",
      "train 0 train_data_3_0.csv\n",
      "(3000, 16385)\n",
      "train 0 train_data_4_0.csv\n",
      "(4000, 16385)\n",
      "train 0 train_data_5_0.csv\n",
      "(5000, 16385)\n",
      "train 1 train_data_11_1.csv\n",
      "(862, 16385)\n",
      "train 1 train_data_12_1.csv\n",
      "(1862, 16385)\n",
      "train 1 train_data_13_1.csv\n",
      "(2862, 16385)\n",
      "train 1 train_data_14_1.csv\n",
      "(3862, 16385)\n",
      "train 1 train_data_15_1.csv\n",
      "(4862, 16385)\n",
      "test 0 test_data_1_0.csv\n",
      "(1000, 16385)\n",
      "test 0 test_data_2_0.csv\n",
      "(2000, 16385)\n",
      "test 0 test_data_3_0.csv\n",
      "(3000, 16385)\n",
      "test 1 test_data_7_1.csv\n",
      "(1000, 16385)\n",
      "test 1 test_data_8_1.csv\n",
      "(2000, 16385)\n",
      "test 1 test_data_9_1.csv\n",
      "(3000, 16385)\n"
     ]
    }
   ],
   "source": [
    "path = 'D:\\data\\catdog\\data\\\\'\n",
    "train_file = {0: [], 1: []}\n",
    "test_file = {0: [], 1: []}\n",
    "\n",
    "for _, _, files in os.walk(path):\n",
    "    for file in files:\n",
    "        if file.startswith('test'):\n",
    "            if file.endswith('0.csv'):\n",
    "                test_file[0].append(file)\n",
    "            else : test_file[1].append(file)\n",
    "        else :\n",
    "            if file.endswith('0.csv'):\n",
    "                train_file[0].append(file)\n",
    "            else : train_file[1].append(file)\n",
    "print(train_file, test_file)\n",
    "\n",
    "train_data = {0: None, 1: None}\n",
    "test_data = {0: None, 1: None}\n",
    "\n",
    "for i in ['train', 'test']:\n",
    "    for key, val in eval(i + '_file').items():\n",
    "        for file in val :\n",
    "            print(i, key, file)\n",
    "            temp = np.loadtxt(path + file, delimiter=',') / 255\n",
    "            temp = np.hstack((temp, np.ones((temp.shape[0], 1))*key))\n",
    "            temp_name = eval(i + '_data')\n",
    "            if temp_name[key] is None :\n",
    "                temp_name[key] = temp\n",
    "            else :\n",
    "                temp_name[key] = np.vstack((temp_name[key], temp))\n",
    "            print(temp_name[key].shape)"
   ]
  },
  {
   "cell_type": "code",
   "execution_count": 31,
   "metadata": {},
   "outputs": [],
   "source": [
    "x = tf.placeholder('float', shape=[None, 128 * 128], name='images_flat')\n",
    "y_ = tf.placeholder(tf.int64, shape=[None], name='labels')"
   ]
  },
  {
   "cell_type": "code",
   "execution_count": 32,
   "metadata": {},
   "outputs": [
    {
     "name": "stdout",
     "output_type": "stream",
     "text": [
      "Tensor(\"batch_images_1:0\", shape=(?, 128, 128, 1), dtype=float32)\n"
     ]
    }
   ],
   "source": [
    "x_image = tf.reshape(x, [-1, 128, 128, 1], name='batch_images')\n",
    "print(x_image)"
   ]
  },
  {
   "cell_type": "code",
   "execution_count": 33,
   "metadata": {
    "collapsed": true
   },
   "outputs": [],
   "source": [
    "def weight_variable(shape):\n",
    "    initial = tf.truncated_normal(shape, stddev=.1)\n",
    "    return tf.Variable(initial)\n",
    "\n",
    "def bias_variable(shape):\n",
    "    initial = tf.constant(.1, shape=shape)\n",
    "    return tf.Variable(initial)"
   ]
  },
  {
   "cell_type": "code",
   "execution_count": 34,
   "metadata": {
    "collapsed": true
   },
   "outputs": [],
   "source": [
    "def conv2d(x, W):\n",
    "    return tf.nn.conv2d(x, W, strides=[1, 1, 1, 1], padding='SAME')\n",
    "\n",
    "def max_pool_2x2(x):\n",
    "    return tf.nn.max_pool(x, ksize=[1, 2, 2, 1], strides=[1, 2, 2, 1], padding='SAME')"
   ]
  },
  {
   "cell_type": "code",
   "execution_count": 35,
   "metadata": {
    "collapsed": true
   },
   "outputs": [],
   "source": [
    "W_conv1 = weight_variable([5, 5, 1, 16])\n",
    "b_conv1 = bias_variable([16])"
   ]
  },
  {
   "cell_type": "code",
   "execution_count": 36,
   "metadata": {
    "collapsed": true
   },
   "outputs": [],
   "source": [
    "h_conv1 = tf.nn.relu(conv2d(x_image, W_conv1) + b_conv1)\n",
    "h_pool1 = max_pool_2x2(h_conv1)"
   ]
  },
  {
   "cell_type": "code",
   "execution_count": 37,
   "metadata": {
    "collapsed": true
   },
   "outputs": [],
   "source": [
    "W_conv2 = weight_variable([5, 5, 16, 32])\n",
    "b_conv2 = bias_variable([32])"
   ]
  },
  {
   "cell_type": "code",
   "execution_count": 38,
   "metadata": {},
   "outputs": [],
   "source": [
    "h_conv2 = tf.nn.relu(conv2d(h_pool1, W_conv2) + b_conv2)\n",
    "h_pool2 = max_pool_2x2(h_conv2)"
   ]
  },
  {
   "cell_type": "code",
   "execution_count": 39,
   "metadata": {
    "collapsed": true
   },
   "outputs": [],
   "source": [
    "W_fc1 = weight_variable([32 * 32 * 32, 1024])\n",
    "b_fc1 = bias_variable([1024])"
   ]
  },
  {
   "cell_type": "code",
   "execution_count": 40,
   "metadata": {
    "collapsed": true
   },
   "outputs": [],
   "source": [
    "h_pool2_flat = tf.reshape(h_pool2, [-1, 32 * 32 * 32])\n",
    "h_fc1 = tf.nn.relu(tf.matmul(h_pool2_flat, W_fc1) + b_fc1)"
   ]
  },
  {
   "cell_type": "code",
   "execution_count": 41,
   "metadata": {
    "collapsed": true
   },
   "outputs": [],
   "source": [
    "keep_prob = tf.placeholder('float')\n",
    "h_fc1_drop = tf.nn.dropout(h_fc1, keep_prob)"
   ]
  },
  {
   "cell_type": "code",
   "execution_count": 42,
   "metadata": {
    "collapsed": true
   },
   "outputs": [],
   "source": [
    "W_fc2 = weight_variable([1024, 2])\n",
    "b_fc2 = bias_variable([2])"
   ]
  },
  {
   "cell_type": "code",
   "execution_count": 49,
   "metadata": {
    "collapsed": true
   },
   "outputs": [],
   "source": [
    "y_conv = tf.matmul(h_fc1_drop, W_fc2) + b_fc2"
   ]
  },
  {
   "cell_type": "code",
   "execution_count": 50,
   "metadata": {},
   "outputs": [],
   "source": [
    "cross_entropy = tf.reduce_mean(tf.nn.sparse_softmax_cross_entropy_with_logits(labels=y_, logits=y_conv))\n",
    "train_step = tf.train.AdamOptimizer(1e-4).minimize(cross_entropy)\n",
    "correct_prediction = tf.equal(tf.argmax(y_conv, 1), y_)\n",
    "accuracy = tf.reduce_mean(tf.cast(correct_prediction, 'float'))"
   ]
  },
  {
   "cell_type": "code",
   "execution_count": 51,
   "metadata": {
    "collapsed": true
   },
   "outputs": [],
   "source": [
    "sess = tf.Session()"
   ]
  },
  {
   "cell_type": "code",
   "execution_count": 52,
   "metadata": {
    "collapsed": true
   },
   "outputs": [],
   "source": [
    "sess.run(tf.global_variables_initializer())"
   ]
  },
  {
   "cell_type": "code",
   "execution_count": 53,
   "metadata": {},
   "outputs": [
    {
     "data": {
      "text/plain": [
       "0"
      ]
     },
     "execution_count": 53,
     "metadata": {},
     "output_type": "execute_result"
    }
   ],
   "source": [
    "batch_0, batch_1 = np.random.choice(train_data[0].shape[0], 50), np.random.choice(train_data[1].shape[0], 50)\n",
    "batch = np.vstack((train_data[0][batch_0], train_data[1][batch_1]))\n",
    "np.random.shuffle(batch)\n",
    "sess.run(tf.to_int32(batch[0, -1]))"
   ]
  },
  {
   "cell_type": "code",
   "execution_count": 54,
   "metadata": {},
   "outputs": [
    {
     "name": "stdout",
     "output_type": "stream",
     "text": [
      "step 0, training accuracy 0.46\n",
      "step 100, training accuracy 0.72\n",
      "step 200, training accuracy 0.76\n",
      "step 300, training accuracy 0.8\n",
      "step 400, training accuracy 0.73\n",
      "step 500, training accuracy 0.78\n",
      "step 600, training accuracy 0.82\n",
      "step 700, training accuracy 0.79\n",
      "step 800, training accuracy 0.84\n",
      "step 900, training accuracy 0.94\n"
     ]
    }
   ],
   "source": [
    "for i in range(1000):\n",
    "    batch_0, batch_1 = np.random.choice(train_data[0].shape[0], 50), np.random.choice(train_data[1].shape[0], 50)\n",
    "    batch = np.vstack((train_data[0][batch_0], train_data[1][batch_1]))\n",
    "    np.random.shuffle(batch)\n",
    "    if i % 100 == 0:\n",
    "        train_accuracy = sess.run(accuracy, feed_dict={x: batch[:, :-1], y_: batch[:, -1], keep_prob: 1.})\n",
    "        print('step %d, training accuracy %g' % (i, train_accuracy))\n",
    "    sess.run(train_step, feed_dict={x: batch[:, :-1], y_: batch[:, -1], keep_prob: .5})"
   ]
  },
  {
   "cell_type": "code",
   "execution_count": 60,
   "metadata": {},
   "outputs": [
    {
     "name": "stdout",
     "output_type": "stream",
     "text": [
      "test accuracy 0.65\n"
     ]
    }
   ],
   "source": [
    "test = np.vstack((test_data[0], test_data[1]))\n",
    "np.random.shuffle(test)\n",
    "print('test accuracy %g' % \n",
    "      sess.run(accuracy, feed_dict={x: test[:100, :-1], y_: test[:100, -1], keep_prob: 1.}))"
   ]
  }
 ],
 "metadata": {
  "kernelspec": {
   "display_name": "Python 3",
   "language": "python",
   "name": "python3"
  },
  "language_info": {
   "codemirror_mode": {
    "name": "ipython",
    "version": 3
   },
   "file_extension": ".py",
   "mimetype": "text/x-python",
   "name": "python",
   "nbconvert_exporter": "python",
   "pygments_lexer": "ipython3",
   "version": "3.5.3"
  }
 },
 "nbformat": 4,
 "nbformat_minor": 2
}
